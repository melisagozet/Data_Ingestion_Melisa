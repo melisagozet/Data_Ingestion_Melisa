{
 "cells": [
  {
   "cell_type": "code",
   "execution_count": 1,
   "id": "fd666449",
   "metadata": {},
   "outputs": [
    {
     "name": "stdout",
     "output_type": "stream",
     "text": [
      "Overwriting utility.py\n"
     ]
    }
   ],
   "source": [
    "%%writefile utility.py\n",
    "import logging\n",
    "import os\n",
    "import subprocess\n",
    "import yaml\n",
    "import pandas as pd\n",
    "import datetime \n",
    "import gc\n",
    "import re\n",
    "\n",
    "def read_config_file(filepath):\n",
    "    with open(filepath, 'r') as stream:\n",
    "        try:\n",
    "            return yaml.safe_load(stream)\n",
    "        except yaml.YAMLError as exc:\n",
    "            logging.error(exc)\n",
    "\n",
    "\n",
    "def replacer(string, char):\n",
    "    pattern = char + '{2,}'\n",
    "    string = re.sub(pattern, char, string) \n",
    "    return string\n",
    "\n",
    "def col_header_val(df,table_config):\n",
    "    df.columns = df.columns.str.lower()\n",
    "    df.columns = df.columns.str.replace('[^\\w]','_',regex=True)\n",
    "    df.columns = list(map(lambda x: x.strip('_'), list(df.columns)))\n",
    "    df.columns = list(map(lambda x: replacer(x,'_'), list(df.columns)))\n",
    "    expected_col = list(map(lambda x: x.lower(),  table_config['columns']))\n",
    "    expected_col.sort()\n",
    "    df.columns =list(map(lambda x: x.lower(), list(df.columns)))\n",
    "    df = df.reindex(sorted(df.columns), axis=1)\n",
    "    if len(df.columns) == len(expected_col) and list(expected_col)  == list(df.columns):\n",
    "        print(\"column name and column length validation passed\")\n",
    "    else:\n",
    "        print(\"column name and column length validation failed\")\n",
    "        mismatched_columns_file = list(set(df.columns).difference(expected_col))\n",
    "        print(\"Following File columns are not in the YAML file\",mismatched_columns_file)\n",
    "        missing_YAML_file = list(set(expected_col).difference(df.columns))\n",
    "        print(\"Following YAML columns are not in the file uploaded\",missing_YAML_file)\n",
    "        logging.info(f'df columns: {df.columns}')\n",
    "        logging.info(f'expected columns: {expected_col}')"
   ]
  },
  {
   "cell_type": "code",
   "execution_count": 2,
   "id": "97a502d3",
   "metadata": {},
   "outputs": [
    {
     "name": "stdout",
     "output_type": "stream",
     "text": [
      "<class 'pandas.core.frame.DataFrame'>\n",
      "RangeIndex: 27381995 entries, 0 to 27381994\n",
      "Data columns (total 11 columns):\n",
      " #   Column    Dtype  \n",
      "---  ------    -----  \n",
      " 0   LON       float64\n",
      " 1   LAT       float64\n",
      " 2   NUMBER    float64\n",
      " 3   STREET    object \n",
      " 4   UNIT      float64\n",
      " 5   CITY      object \n",
      " 6   DISTRICT  float64\n",
      " 7   REGION    float64\n",
      " 8   POSTCODE  float64\n",
      " 9   ID        float64\n",
      " 10  HASH      object \n",
      "dtypes: float64(8), object(3)\n",
      "memory usage: 2.2+ GB\n"
     ]
    }
   ],
   "source": [
    "import pandas as pd\n",
    "df = pd.read_csv(\"france.csv\")\n",
    "df.info()"
   ]
  },
  {
   "cell_type": "code",
   "execution_count": 8,
   "id": "f2113637",
   "metadata": {},
   "outputs": [
    {
     "name": "stdout",
     "output_type": "stream",
     "text": [
      "Overwriting file.yaml\n"
     ]
    }
   ],
   "source": [
    "%%writefile file.yaml\n",
    "file_type: csv\n",
    "dataset_name: france\n",
    "file_name: Parking_Violations_2016\n",
    "table_name: edsurv\n",
    "inbound_delimiter: \",\"\n",
    "outbound_delimiter: \"|\"\n",
    "skip_leading_rows: 1\n",
    "columns: \n",
    "    - lon\n",
    "    - lat\n",
    "    - number\n",
    "    - street \n",
    "    - unit\n",
    "    - city\n",
    "    - district\n",
    "    - region\n",
    "    - postcode\n",
    "    - ID\n",
    "    - HASH"
   ]
  },
  {
   "cell_type": "code",
   "execution_count": 4,
   "id": "da51a4d5",
   "metadata": {},
   "outputs": [
    {
     "data": {
      "text/plain": [
       "{'file_type': 'csv',\n",
       " 'dataset_name': 'YellowTripData',\n",
       " 'file_name': 'Parking_Violations_2016',\n",
       " 'table_name': 'edsurv',\n",
       " 'inbound_delimiter': ',',\n",
       " 'outbound_delimiter': '|',\n",
       " 'skip_leading_rows': 1,\n",
       " 'columns': ['lon',\n",
       "  'lat',\n",
       "  'number',\n",
       "  'street',\n",
       "  'unit',\n",
       "  'city',\n",
       "  'district',\n",
       "  'region',\n",
       "  'postcode',\n",
       "  'ID',\n",
       "  'HASH']}"
      ]
     },
     "execution_count": 4,
     "metadata": {},
     "output_type": "execute_result"
    }
   ],
   "source": [
    "import utility\n",
    "config_data = utility.read_config_file(\"file.yaml\")\n",
    "config_data"
   ]
  },
  {
   "cell_type": "code",
   "execution_count": 5,
   "id": "d210b08b",
   "metadata": {},
   "outputs": [
    {
     "name": "stdout",
     "output_type": "stream",
     "text": [
      "columns of files are: Index(['LON', 'LAT', 'NUMBER', 'STREET', 'UNIT', 'CITY', 'DISTRICT', 'REGION',\n",
      "       'POSTCODE', 'ID', 'HASH'],\n",
      "      dtype='object')\n",
      "columns of YAML are: ['lon', 'lat', 'number', 'street', 'unit', 'city', 'district', 'region', 'postcode', 'ID', 'HASH']\n"
     ]
    }
   ],
   "source": [
    "print(\"columns of files are:\" ,df.columns)\n",
    "print(\"columns of YAML are:\" ,config_data['columns'])"
   ]
  },
  {
   "cell_type": "code",
   "execution_count": 6,
   "id": "2e12bac7-4f87-4385-86c4-0bab20d3da7d",
   "metadata": {},
   "outputs": [
    {
     "name": "stdout",
     "output_type": "stream",
     "text": [
      "column name and column length validation passed\n"
     ]
    }
   ],
   "source": [
    "utility.col_header_val(df,config_data)"
   ]
  },
  {
   "cell_type": "code",
   "execution_count": 7,
   "id": "da4e9f61-c8d3-435b-8366-513d4acc43f3",
   "metadata": {},
   "outputs": [],
   "source": [
    "df.to_csv('france.gz', compression = 'gzip', sep = '|', header = False, index = False)"
   ]
  }
 ],
 "metadata": {
  "kernelspec": {
   "display_name": "Python 3",
   "language": "python",
   "name": "python3"
  },
  "language_info": {
   "codemirror_mode": {
    "name": "ipython",
    "version": 3
   },
   "file_extension": ".py",
   "mimetype": "text/x-python",
   "name": "python",
   "nbconvert_exporter": "python",
   "pygments_lexer": "ipython3",
   "version": "3.8.8"
  }
 },
 "nbformat": 4,
 "nbformat_minor": 5
}
